{
  "nbformat": 4,
  "nbformat_minor": 0,
  "metadata": {
    "colab": {
      "provenance": [],
      "authorship_tag": "ABX9TyMeTKbY7dF4XWv+/2AKtK8J",
      "include_colab_link": true
    },
    "kernelspec": {
      "name": "python3",
      "display_name": "Python 3"
    },
    "language_info": {
      "name": "python"
    }
  },
  "cells": [
    {
      "cell_type": "markdown",
      "metadata": {
        "id": "view-in-github",
        "colab_type": "text"
      },
      "source": [
        "<a href=\"https://colab.research.google.com/github/daam13/AnalisisDatos/blob/main/Laboratorio_1_Darla_Albornoz_Musa.ipynb\" target=\"_parent\"><img src=\"https://colab.research.google.com/assets/colab-badge.svg\" alt=\"Open In Colab\"/></a>"
      ]
    },
    {
      "cell_type": "markdown",
      "source": [
        "**Laboratorio #1**"
      ],
      "metadata": {
        "id": "_aYwuHj2I1v_"
      }
    },
    {
      "cell_type": "markdown",
      "source": [
        "*Darla Albornoz Musa*"
      ],
      "metadata": {
        "id": "hXNZJ5eOJJdP"
      }
    },
    {
      "cell_type": "markdown",
      "source": [
        "**Ejercicio #1**"
      ],
      "metadata": {
        "id": "1h2a6JEsH0PP"
      }
    },
    {
      "cell_type": "code",
      "execution_count": null,
      "metadata": {
        "colab": {
          "base_uri": "https://localhost:8080/"
        },
        "id": "40fMt2oKHt97",
        "outputId": "d31d0292-ae76-4fcd-cb1e-2f74e4b99160"
      },
      "outputs": [
        {
          "output_type": "stream",
          "name": "stdout",
          "text": [
            "Ejercicio #1 Calcular Distancia\n",
            "Ingrese la velocidad y el tiempo de la unidad movil\n",
            "Ingrese la velocidad:5\n",
            "Ingrese el tiempo:1\n",
            "La distancia es: 5.0\n"
          ]
        }
      ],
      "source": [
        "print(\"Ejercicio #1 Calcular Distancia\")\n",
        "print(\"Ingrese la velocidad y el tiempo de la unidad movil\")\n",
        "v = float(input(\"Ingrese la velocidad:\"))\n",
        "t = float(input(\"Ingrese el tiempo:\"))\n",
        "print(\"La distancia es: \" + str(v*t))"
      ]
    },
    {
      "cell_type": "markdown",
      "source": [
        "**Ejercicio #2**"
      ],
      "metadata": {
        "id": "oHO2F3MBJM1P"
      }
    },
    {
      "cell_type": "code",
      "source": [
        "print(\"Ejercicio #2 Promedio de notas\")\n",
        "N1 = float(input(\"Ingrese nota 1:\"))\n",
        "N2 = int(input(\"Ingrese nota 2:\"))\n",
        "N3 = int(input(\"Ingrese nota 3:\"))\n",
        "\n",
        "print(\"El promedio de la nota es:\" + str((N1 + N2 + N3)/3))"
      ],
      "metadata": {
        "colab": {
          "base_uri": "https://localhost:8080/"
        },
        "id": "Fl5KrnVyJQBh",
        "outputId": "c39afbee-8e04-4ed2-bd47-e859af92ce62"
      },
      "execution_count": null,
      "outputs": [
        {
          "output_type": "stream",
          "name": "stdout",
          "text": [
            "Ejercicio #2 Promedio de notas\n",
            "Ingrese nota 1:1\n",
            "Ingrese nota 2:3\n",
            "Ingrese nota 3:2\n",
            "El promedio de la nota es:2.0\n"
          ]
        }
      ]
    },
    {
      "cell_type": "markdown",
      "source": [
        "**Ejercicio #3**"
      ],
      "metadata": {
        "id": "ZWuK0W-aJ37X"
      }
    },
    {
      "cell_type": "code",
      "source": [
        "print(\"Ejercicio #3\")\n",
        "r_c = int(input(\"Ingrese cantidad de respuestas correctas:\"))\n",
        "r_i = int(input(\"Ingrese cantidad de respuestas incorrectas:\"))\n",
        "r_b = int(input(\"Ingrese cantidad de respuestas en blanco:\"))\n",
        "\n",
        "# r_c 3\n",
        "# r_i -1\n",
        "# r_b 0\n",
        "\n",
        "print(\"El puntaje final es:\" + str(r_c * 3 + r_i * -1))"
      ],
      "metadata": {
        "colab": {
          "base_uri": "https://localhost:8080/"
        },
        "id": "pIiL4-ETJ8sA",
        "outputId": "82f8dae1-3d9d-4ae5-85c0-56bc8189054f"
      },
      "execution_count": null,
      "outputs": [
        {
          "output_type": "stream",
          "name": "stdout",
          "text": [
            "Ejercicio #3\n",
            "Ingrese cantidad de respuestas correctas:1\n",
            "Ingrese cantidad de respuestas incorrectas:2\n",
            "Ingrese cantidad de respuestas en blanco:5\n",
            "El puntaje final es:1\n"
          ]
        }
      ]
    }
  ]
}