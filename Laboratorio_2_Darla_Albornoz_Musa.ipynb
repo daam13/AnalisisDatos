{
  "nbformat": 4,
  "nbformat_minor": 0,
  "metadata": {
    "colab": {
      "provenance": [],
      "authorship_tag": "ABX9TyNUaG4by2n0kLGSKIZxDmFe",
      "include_colab_link": true
    },
    "kernelspec": {
      "name": "python3",
      "display_name": "Python 3"
    },
    "language_info": {
      "name": "python"
    }
  },
  "cells": [
    {
      "cell_type": "markdown",
      "metadata": {
        "id": "view-in-github",
        "colab_type": "text"
      },
      "source": [
        "<a href=\"https://colab.research.google.com/github/daam13/AnalisisDatos/blob/main/Laboratorio_2_Darla_Albornoz_Musa.ipynb\" target=\"_parent\"><img src=\"https://colab.research.google.com/assets/colab-badge.svg\" alt=\"Open In Colab\"/></a>"
      ]
    },
    {
      "cell_type": "markdown",
      "source": [
        "**Laboratorio #2**"
      ],
      "metadata": {
        "id": "Y0NUiIaxO_cH"
      }
    },
    {
      "cell_type": "markdown",
      "source": [
        "*Darla Albornoz Musa*"
      ],
      "metadata": {
        "id": "wzkJC8jPPCdf"
      }
    },
    {
      "cell_type": "markdown",
      "source": [
        "1) If-Else"
      ],
      "metadata": {
        "id": "uFpDkxrXG7uO"
      }
    },
    {
      "cell_type": "code",
      "source": [
        "x = int(input(\"Primer Número: \"))\n",
        "y = int(input(\"Segundo Número: \"))\n",
        "\n",
        "print(\"SALIDA\")\n",
        "\n",
        "if x > y:\n",
        "  print(\"El menor es:\", y)\n",
        "else:\n",
        "  print(\"El menor es:\", x)"
      ],
      "metadata": {
        "id": "p9GlymGiHAz3",
        "colab": {
          "base_uri": "https://localhost:8080/"
        },
        "outputId": "5d87b53b-8144-4c09-b3dd-4dd918f739d9"
      },
      "execution_count": null,
      "outputs": [
        {
          "output_type": "stream",
          "name": "stdout",
          "text": [
            "Primer Número: 5\n",
            "Segundo Número: 3\n",
            "SALIDA\n",
            "El menor es: 3\n"
          ]
        }
      ]
    },
    {
      "cell_type": "markdown",
      "source": [
        "2) Switcher / Diccionario"
      ],
      "metadata": {
        "id": "EYUJ6-npO53b"
      }
    },
    {
      "cell_type": "code",
      "source": [
        "switcher = {1:\"Enero\", 2:\"Febrero\", 3:\"Marzo\", 4:\"Abril\", 5:\"Mayo\", 6:\"Junio\", 7:\"Julio\", 8:\"Agosto\", 9:\"Septiembre\", 10:\"Octubre\", 11:\"Noviembre\", 12:\"Diciembre\"}\n",
        "# num = int(input(\"Ingrese número:\"))\n",
        "num = 5\n",
        "nomMes = switcher.get(num, \"Mes inválido.\")\n",
        "print(nomMes)"
      ],
      "metadata": {
        "colab": {
          "base_uri": "https://localhost:8080/"
        },
        "id": "B-U2TDDX6SWP",
        "outputId": "202cceb8-bf36-4b99-d543-3c8ffcf925e0"
      },
      "execution_count": null,
      "outputs": [
        {
          "output_type": "stream",
          "name": "stdout",
          "text": [
            "Mayo\n"
          ]
        }
      ]
    }
  ]
}