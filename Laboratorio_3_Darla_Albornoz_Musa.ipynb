{
  "nbformat": 4,
  "nbformat_minor": 0,
  "metadata": {
    "colab": {
      "provenance": [],
      "authorship_tag": "ABX9TyNhK3sqohh3Jf2lOM/M4H1z",
      "include_colab_link": true
    },
    "kernelspec": {
      "name": "python3",
      "display_name": "Python 3"
    },
    "language_info": {
      "name": "python"
    }
  },
  "cells": [
    {
      "cell_type": "markdown",
      "metadata": {
        "id": "view-in-github",
        "colab_type": "text"
      },
      "source": [
        "<a href=\"https://colab.research.google.com/github/daam13/AnalisisDatos/blob/main/Laboratorio_3_Darla_Albornoz_Musa.ipynb\" target=\"_parent\"><img src=\"https://colab.research.google.com/assets/colab-badge.svg\" alt=\"Open In Colab\"/></a>"
      ]
    },
    {
      "cell_type": "markdown",
      "source": [
        "**Laboratorio #3**"
      ],
      "metadata": {
        "id": "_aYwuHj2I1v_"
      }
    },
    {
      "cell_type": "markdown",
      "source": [
        "*Darla Albornoz Musa*"
      ],
      "metadata": {
        "id": "hXNZJ5eOJJdP"
      }
    },
    {
      "cell_type": "markdown",
      "source": [
        "**Ejercicios en clase**"
      ],
      "metadata": {
        "id": "Wm6Xd7JcZu_T"
      }
    },
    {
      "cell_type": "code",
      "source": [
        "print(\"Promedio d los elementos del vector\")\n",
        "suma = 0 \n",
        "media = 0\n",
        "temp = []\n",
        "\n",
        "print(\"Ingrese cantidad de Temperaturas\")\n",
        "n = int(input())\n",
        "\n",
        "for i in range(n):\n",
        "  temperatura = float(input(\"Ingrese la temperatura: \"))\n",
        "  temp.append(temperatura)\n",
        "  suma = suma + temp[i]\n",
        "\n",
        "media = suma / n\n",
        "print(\"Media ->\", media)"
      ],
      "metadata": {
        "colab": {
          "base_uri": "https://localhost:8080/"
        },
        "id": "YLG0o0xxY2Jx",
        "outputId": "674f803c-8b17-4c1c-d674-d607e6efe883"
      },
      "execution_count": null,
      "outputs": [
        {
          "output_type": "stream",
          "name": "stdout",
          "text": [
            "Promedio d los elementos del vector\n",
            "Ingrese cantidad de Temperaturas\n",
            "2\n",
            "Ingrese la temperatura: 50\n",
            "Ingrese la temperatura: 30\n",
            "Media -> 40.0\n"
          ]
        }
      ]
    },
    {
      "cell_type": "code",
      "source": [
        "import pandas as pd\n",
        "\n",
        "data = {'Country' : ['Costa Rica', 'India', 'Brazil'],\n",
        "        'Capital' : ['San José', 'New Delhi', 'Brasilia'],\n",
        "        'Population' : [4500000, 1303171035, 207847528]}\n",
        "\n",
        "dfPrueba = pd.DataFrame(data, columns = ['Country', 'Capital', 'Population'])\n",
        "print(dfPrueba)"
      ],
      "metadata": {
        "colab": {
          "base_uri": "https://localhost:8080/"
        },
        "id": "aFWyrU4GaccB",
        "outputId": "f0dd97ee-5d67-459b-b2ed-6b9939080409"
      },
      "execution_count": null,
      "outputs": [
        {
          "output_type": "stream",
          "name": "stdout",
          "text": [
            "      Country    Capital  Population\n",
            "0  Costa Rica   San José     4500000\n",
            "1       India  New Delhi  1303171035\n",
            "2      Brazil   Brasilia   207847528\n"
          ]
        }
      ]
    },
    {
      "cell_type": "code",
      "source": [
        "import pandas as pd\n",
        "\n",
        "mascota = pd.DataFrame(\n",
        "    data = {\n",
        "        'name' : ['Minino', 'Milo', 'Snoopy', 'Blanco', 'LittlePony'],\n",
        "        'type' : ['gato', 'perro', 'perro', 'perro', 'caballo']\n",
        "    },\n",
        "    index = [71, 42, 11, 98, 42]\n",
        ")\n",
        "\n",
        "visitas = pd.DataFrame(\n",
        "    data = {\n",
        "        'pet_id' : [42, 31, 71, 42, 98, 42],\n",
        "        'fecha' : ['2019-30-02', '2019-30-08','2019-30-05','2019-18-02','2019-26-01','2019-15-07'],\n",
        "        'costo' : [2000, 40000, 30000, 60000, 20000, 1000000]\n",
        "    },\n",
        ")\n",
        "\n",
        "mascota.index.rename('pet_id', inplace = True)\n",
        "visitas.index.rename('visit_id', inplace = True)\n",
        "\n",
        "print(mascota.query('pet_id==71'))\n",
        "print()\n",
        "print(visitas['costo'].sum())\n",
        "print(visitas['costo'].min())\n",
        "print(visitas['costo'].max())\n",
        "\n",
        "print(visitas)\n",
        "print()\n",
        "print(visitas.sort_values(by = 'costo', ascending = False))\n",
        "\n",
        "tienda = pd.merge(mascota, visitas, how = 'cross')\n",
        "print()\n",
        "print(tienda)"
      ],
      "metadata": {
        "colab": {
          "base_uri": "https://localhost:8080/"
        },
        "id": "z-TesXo6bcow",
        "outputId": "7c26f2a9-ae14-403f-90fd-0dabe5b59b92"
      },
      "execution_count": null,
      "outputs": [
        {
          "output_type": "stream",
          "name": "stdout",
          "text": [
            "          name  type\n",
            "pet_id              \n",
            "71      Minino  gato\n",
            "\n",
            "1152000\n",
            "2000\n",
            "1000000\n",
            "          pet_id       fecha    costo\n",
            "visit_id                             \n",
            "0             42  2019-30-02     2000\n",
            "1             31  2019-30-08    40000\n",
            "2             71  2019-30-05    30000\n",
            "3             42  2019-18-02    60000\n",
            "4             98  2019-26-01    20000\n",
            "5             42  2019-15-07  1000000\n",
            "\n",
            "          pet_id       fecha    costo\n",
            "visit_id                             \n",
            "5             42  2019-15-07  1000000\n",
            "3             42  2019-18-02    60000\n",
            "1             31  2019-30-08    40000\n",
            "2             71  2019-30-05    30000\n",
            "4             98  2019-26-01    20000\n",
            "0             42  2019-30-02     2000\n",
            "\n",
            "          name     type  pet_id       fecha    costo\n",
            "0       Minino     gato      42  2019-30-02     2000\n",
            "1       Minino     gato      31  2019-30-08    40000\n",
            "2       Minino     gato      71  2019-30-05    30000\n",
            "3       Minino     gato      42  2019-18-02    60000\n",
            "4       Minino     gato      98  2019-26-01    20000\n",
            "5       Minino     gato      42  2019-15-07  1000000\n",
            "6         Milo    perro      42  2019-30-02     2000\n",
            "7         Milo    perro      31  2019-30-08    40000\n",
            "8         Milo    perro      71  2019-30-05    30000\n",
            "9         Milo    perro      42  2019-18-02    60000\n",
            "10        Milo    perro      98  2019-26-01    20000\n",
            "11        Milo    perro      42  2019-15-07  1000000\n",
            "12      Snoopy    perro      42  2019-30-02     2000\n",
            "13      Snoopy    perro      31  2019-30-08    40000\n",
            "14      Snoopy    perro      71  2019-30-05    30000\n",
            "15      Snoopy    perro      42  2019-18-02    60000\n",
            "16      Snoopy    perro      98  2019-26-01    20000\n",
            "17      Snoopy    perro      42  2019-15-07  1000000\n",
            "18      Blanco    perro      42  2019-30-02     2000\n",
            "19      Blanco    perro      31  2019-30-08    40000\n",
            "20      Blanco    perro      71  2019-30-05    30000\n",
            "21      Blanco    perro      42  2019-18-02    60000\n",
            "22      Blanco    perro      98  2019-26-01    20000\n",
            "23      Blanco    perro      42  2019-15-07  1000000\n",
            "24  LittlePony  caballo      42  2019-30-02     2000\n",
            "25  LittlePony  caballo      31  2019-30-08    40000\n",
            "26  LittlePony  caballo      71  2019-30-05    30000\n",
            "27  LittlePony  caballo      42  2019-18-02    60000\n",
            "28  LittlePony  caballo      98  2019-26-01    20000\n",
            "29  LittlePony  caballo      42  2019-15-07  1000000\n"
          ]
        }
      ]
    },
    {
      "cell_type": "markdown",
      "source": [
        "**Ejercicio #1**"
      ],
      "metadata": {
        "id": "1h2a6JEsH0PP"
      }
    },
    {
      "cell_type": "code",
      "source": [
        "import pandas as pd\n",
        "\n",
        "students = [('Ana', 23, 'San José', 'A'),\n",
        "            ('Esteban', 22, 'Heredia', 'B'),\n",
        "            ('Juan', 22, 'Limón', 'A'),\n",
        "            ('Ernesto', 21, 'Heredia', 'B')]\n",
        "\n",
        "df = pd.DataFrame(students, columns = ['Nombre', 'Edad', 'Ciudad', 'Sección'])\n",
        "\n",
        "print(\"2. Imprimir información almacenada en df\\n\\n\", df)\n",
        "print(\"\\n3. Definir una función que retorne todo el conjunto de datos acerca de la información a buscar por ejemplo información de la edad de una persona\")\n",
        "\n",
        "def getIndexes(dfObj, value):\n",
        "\n",
        "  listOfPos = []\n",
        "  result = dfObj.isin([value])\n",
        "  seriesObj = result.any()\n",
        "  columnNames = list(seriesObj[seriesObj == True].index)\n",
        "\n",
        "  for col in columnNames:\n",
        "    rows = list(result[col][result[col] == True].index)\n",
        "\n",
        "    for row in rows:\n",
        "      listOfPos.append((row, col))\n",
        "  \n",
        "  return listOfPos\n",
        "\n",
        "listOfPositions = getIndexes(df, 22)\n",
        "\n",
        "print(\"Buscar edad 22: \")\n",
        "\n",
        "for i in range(len(listOfPositions)):\n",
        "  print(listOfPositions[i])"
      ],
      "metadata": {
        "colab": {
          "base_uri": "https://localhost:8080/"
        },
        "id": "X_8AdQoPN-SP",
        "outputId": "c2f5dedf-cce2-467e-a521-0a582e8685fa"
      },
      "execution_count": null,
      "outputs": [
        {
          "output_type": "stream",
          "name": "stdout",
          "text": [
            "2. Imprimir información almacenada en df\n",
            "\n",
            "     Nombre  Edad    Ciudad Sección\n",
            "0      Ana    23  San José       A\n",
            "1  Esteban    22   Heredia       B\n",
            "2     Juan    22     Limón       A\n",
            "3  Ernesto    21   Heredia       B\n",
            "\n",
            "3. Definir una función que retorne todo el conjunto de datos acerca de la información a buscar por ejemplo información de la edad de una persona\n",
            "Buscar edad 22: \n",
            "(1, 'Edad')\n",
            "(2, 'Edad')\n"
          ]
        }
      ]
    },
    {
      "cell_type": "markdown",
      "source": [
        "**Ejercicio #2**"
      ],
      "metadata": {
        "id": "oHO2F3MBJM1P"
      }
    },
    {
      "cell_type": "code",
      "source": [
        "# bucar un dato dentro del df y devolver la ubicación\n",
        "\n",
        "def getIndexes(dfObj, value):\n",
        "\n",
        "  listOfPos = []\n",
        "  result = dfObj.isin([value])\n",
        "  seriesObj = result.any()\n",
        "  columnNames = list(seriesObj[seriesObj == True].index)\n",
        "\n",
        "  for col in columnNames:\n",
        "    rows = list(result[col][result[col] == True].index)\n",
        "\n",
        "    for row in rows:\n",
        "      listOfPos.append((row, col))\n",
        "  \n",
        "  return listOfPos\n",
        "\n",
        "print(\"¿Cómo se puede llamar la función? -> buscar posición\")\n",
        "\n",
        "listOfPositions = getIndexes(df, 'A')\n",
        "\n",
        "print(\"Index positions of A in Dataframe : \")\n",
        "\n",
        "for i in range(len(listOfPositions)):\n",
        "  print(listOfPositions[i])\n",
        "\n",
        "listOfPositions = getIndexes(df, 'Heredia')\n",
        "\n",
        "print(\"Index positions of Heredia in Dataframe : \")\n",
        "\n",
        "for i in range(len(listOfPositions)):\n",
        "  print(listOfPositions[i])"
      ],
      "metadata": {
        "colab": {
          "base_uri": "https://localhost:8080/"
        },
        "id": "LCx1YjkBWgI9",
        "outputId": "af8b98d7-fe27-4127-95c2-5c5012d6e3fe"
      },
      "execution_count": null,
      "outputs": [
        {
          "output_type": "stream",
          "name": "stdout",
          "text": [
            "¿Cómo se puede llamar la función? -> buscar posición\n",
            "Index positions of A in Dataframe : \n",
            "(0, 'Sección')\n",
            "(2, 'Sección')\n",
            "Index positions of Heredia in Dataframe : \n",
            "(1, 'Ciudad')\n",
            "(3, 'Ciudad')\n"
          ]
        }
      ]
    },
    {
      "cell_type": "markdown",
      "source": [
        "**RETO EQUIPO 08**"
      ],
      "metadata": {
        "id": "79cPBKc8mAe2"
      }
    },
    {
      "cell_type": "markdown",
      "source": [
        "*Johanna Vallejos\n",
        "David Ramírez\n",
        "Darla Albornoz*"
      ],
      "metadata": {
        "id": "1C96gHq5mN2z"
      }
    },
    {
      "cell_type": "markdown",
      "source": [
        "Búsqueda de películas con puntuación mayor a 7 y organizada de mayor a menor"
      ],
      "metadata": {
        "id": "f8WsCW6WmQQS"
      }
    },
    {
      "cell_type": "code",
      "source": [
        "import pandas as pd\n",
        "import numpy as np\n",
        "import io\n",
        "from google.colab import files\n",
        " \n",
        "uploaded = files.upload()\n",
        "datos = pd.read_csv(io.BytesIO(uploaded['tv_movie_animation.csv']))\n",
        "df=pd.DataFrame(datos)\n",
        "#print(df)\n",
        "datos.info()\n",
        "#df[(df.title=='Puss in Boots: The Last Wish')]\n",
        "#df.to_numpy()\n",
        "#df.describe()\n",
        "df = df.sort_values('rating',ascending=False)\n",
        "df[df[\"rating\"] >= 7]"
      ],
      "metadata": {
        "colab": {
          "base_uri": "https://localhost:8080/",
          "height": 401
        },
        "id": "TZuA-091prqi",
        "outputId": "0fd4771c-eaf0-41f7-96e0-bed068477a36"
      },
      "execution_count": null,
      "outputs": [
        {
          "output_type": "display_data",
          "data": {
            "text/plain": [
              "<IPython.core.display.HTML object>"
            ],
            "text/html": [
              "\n",
              "     <input type=\"file\" id=\"files-fa71e107-49f2-44be-8fb1-c4813cc44215\" name=\"files[]\" multiple disabled\n",
              "        style=\"border:none\" />\n",
              "     <output id=\"result-fa71e107-49f2-44be-8fb1-c4813cc44215\">\n",
              "      Upload widget is only available when the cell has been executed in the\n",
              "      current browser session. Please rerun this cell to enable.\n",
              "      </output>\n",
              "      <script>// Copyright 2017 Google LLC\n",
              "//\n",
              "// Licensed under the Apache License, Version 2.0 (the \"License\");\n",
              "// you may not use this file except in compliance with the License.\n",
              "// You may obtain a copy of the License at\n",
              "//\n",
              "//      http://www.apache.org/licenses/LICENSE-2.0\n",
              "//\n",
              "// Unless required by applicable law or agreed to in writing, software\n",
              "// distributed under the License is distributed on an \"AS IS\" BASIS,\n",
              "// WITHOUT WARRANTIES OR CONDITIONS OF ANY KIND, either express or implied.\n",
              "// See the License for the specific language governing permissions and\n",
              "// limitations under the License.\n",
              "\n",
              "/**\n",
              " * @fileoverview Helpers for google.colab Python module.\n",
              " */\n",
              "(function(scope) {\n",
              "function span(text, styleAttributes = {}) {\n",
              "  const element = document.createElement('span');\n",
              "  element.textContent = text;\n",
              "  for (const key of Object.keys(styleAttributes)) {\n",
              "    element.style[key] = styleAttributes[key];\n",
              "  }\n",
              "  return element;\n",
              "}\n",
              "\n",
              "// Max number of bytes which will be uploaded at a time.\n",
              "const MAX_PAYLOAD_SIZE = 100 * 1024;\n",
              "\n",
              "function _uploadFiles(inputId, outputId) {\n",
              "  const steps = uploadFilesStep(inputId, outputId);\n",
              "  const outputElement = document.getElementById(outputId);\n",
              "  // Cache steps on the outputElement to make it available for the next call\n",
              "  // to uploadFilesContinue from Python.\n",
              "  outputElement.steps = steps;\n",
              "\n",
              "  return _uploadFilesContinue(outputId);\n",
              "}\n",
              "\n",
              "// This is roughly an async generator (not supported in the browser yet),\n",
              "// where there are multiple asynchronous steps and the Python side is going\n",
              "// to poll for completion of each step.\n",
              "// This uses a Promise to block the python side on completion of each step,\n",
              "// then passes the result of the previous step as the input to the next step.\n",
              "function _uploadFilesContinue(outputId) {\n",
              "  const outputElement = document.getElementById(outputId);\n",
              "  const steps = outputElement.steps;\n",
              "\n",
              "  const next = steps.next(outputElement.lastPromiseValue);\n",
              "  return Promise.resolve(next.value.promise).then((value) => {\n",
              "    // Cache the last promise value to make it available to the next\n",
              "    // step of the generator.\n",
              "    outputElement.lastPromiseValue = value;\n",
              "    return next.value.response;\n",
              "  });\n",
              "}\n",
              "\n",
              "/**\n",
              " * Generator function which is called between each async step of the upload\n",
              " * process.\n",
              " * @param {string} inputId Element ID of the input file picker element.\n",
              " * @param {string} outputId Element ID of the output display.\n",
              " * @return {!Iterable<!Object>} Iterable of next steps.\n",
              " */\n",
              "function* uploadFilesStep(inputId, outputId) {\n",
              "  const inputElement = document.getElementById(inputId);\n",
              "  inputElement.disabled = false;\n",
              "\n",
              "  const outputElement = document.getElementById(outputId);\n",
              "  outputElement.innerHTML = '';\n",
              "\n",
              "  const pickedPromise = new Promise((resolve) => {\n",
              "    inputElement.addEventListener('change', (e) => {\n",
              "      resolve(e.target.files);\n",
              "    });\n",
              "  });\n",
              "\n",
              "  const cancel = document.createElement('button');\n",
              "  inputElement.parentElement.appendChild(cancel);\n",
              "  cancel.textContent = 'Cancel upload';\n",
              "  const cancelPromise = new Promise((resolve) => {\n",
              "    cancel.onclick = () => {\n",
              "      resolve(null);\n",
              "    };\n",
              "  });\n",
              "\n",
              "  // Wait for the user to pick the files.\n",
              "  const files = yield {\n",
              "    promise: Promise.race([pickedPromise, cancelPromise]),\n",
              "    response: {\n",
              "      action: 'starting',\n",
              "    }\n",
              "  };\n",
              "\n",
              "  cancel.remove();\n",
              "\n",
              "  // Disable the input element since further picks are not allowed.\n",
              "  inputElement.disabled = true;\n",
              "\n",
              "  if (!files) {\n",
              "    return {\n",
              "      response: {\n",
              "        action: 'complete',\n",
              "      }\n",
              "    };\n",
              "  }\n",
              "\n",
              "  for (const file of files) {\n",
              "    const li = document.createElement('li');\n",
              "    li.append(span(file.name, {fontWeight: 'bold'}));\n",
              "    li.append(span(\n",
              "        `(${file.type || 'n/a'}) - ${file.size} bytes, ` +\n",
              "        `last modified: ${\n",
              "            file.lastModifiedDate ? file.lastModifiedDate.toLocaleDateString() :\n",
              "                                    'n/a'} - `));\n",
              "    const percent = span('0% done');\n",
              "    li.appendChild(percent);\n",
              "\n",
              "    outputElement.appendChild(li);\n",
              "\n",
              "    const fileDataPromise = new Promise((resolve) => {\n",
              "      const reader = new FileReader();\n",
              "      reader.onload = (e) => {\n",
              "        resolve(e.target.result);\n",
              "      };\n",
              "      reader.readAsArrayBuffer(file);\n",
              "    });\n",
              "    // Wait for the data to be ready.\n",
              "    let fileData = yield {\n",
              "      promise: fileDataPromise,\n",
              "      response: {\n",
              "        action: 'continue',\n",
              "      }\n",
              "    };\n",
              "\n",
              "    // Use a chunked sending to avoid message size limits. See b/62115660.\n",
              "    let position = 0;\n",
              "    do {\n",
              "      const length = Math.min(fileData.byteLength - position, MAX_PAYLOAD_SIZE);\n",
              "      const chunk = new Uint8Array(fileData, position, length);\n",
              "      position += length;\n",
              "\n",
              "      const base64 = btoa(String.fromCharCode.apply(null, chunk));\n",
              "      yield {\n",
              "        response: {\n",
              "          action: 'append',\n",
              "          file: file.name,\n",
              "          data: base64,\n",
              "        },\n",
              "      };\n",
              "\n",
              "      let percentDone = fileData.byteLength === 0 ?\n",
              "          100 :\n",
              "          Math.round((position / fileData.byteLength) * 100);\n",
              "      percent.textContent = `${percentDone}% done`;\n",
              "\n",
              "    } while (position < fileData.byteLength);\n",
              "  }\n",
              "\n",
              "  // All done.\n",
              "  yield {\n",
              "    response: {\n",
              "      action: 'complete',\n",
              "    }\n",
              "  };\n",
              "}\n",
              "\n",
              "scope.google = scope.google || {};\n",
              "scope.google.colab = scope.google.colab || {};\n",
              "scope.google.colab._files = {\n",
              "  _uploadFiles,\n",
              "  _uploadFilesContinue,\n",
              "};\n",
              "})(self);\n",
              "</script> "
            ]
          },
          "metadata": {}
        },
        {
          "output_type": "error",
          "ename": "KeyboardInterrupt",
          "evalue": "ignored",
          "traceback": [
            "\u001b[0;31m---------------------------------------------------------------------------\u001b[0m",
            "\u001b[0;31mKeyboardInterrupt\u001b[0m                         Traceback (most recent call last)",
            "\u001b[0;32m<ipython-input-50-b065e6533847>\u001b[0m in \u001b[0;36m<cell line: 6>\u001b[0;34m()\u001b[0m\n\u001b[1;32m      4\u001b[0m \u001b[0;32mfrom\u001b[0m \u001b[0mgoogle\u001b[0m\u001b[0;34m.\u001b[0m\u001b[0mcolab\u001b[0m \u001b[0;32mimport\u001b[0m \u001b[0mfiles\u001b[0m\u001b[0;34m\u001b[0m\u001b[0;34m\u001b[0m\u001b[0m\n\u001b[1;32m      5\u001b[0m \u001b[0;34m\u001b[0m\u001b[0m\n\u001b[0;32m----> 6\u001b[0;31m \u001b[0muploaded\u001b[0m \u001b[0;34m=\u001b[0m \u001b[0mfiles\u001b[0m\u001b[0;34m.\u001b[0m\u001b[0mupload\u001b[0m\u001b[0;34m(\u001b[0m\u001b[0;34m)\u001b[0m\u001b[0;34m\u001b[0m\u001b[0;34m\u001b[0m\u001b[0m\n\u001b[0m\u001b[1;32m      7\u001b[0m \u001b[0mdatos\u001b[0m \u001b[0;34m=\u001b[0m \u001b[0mpd\u001b[0m\u001b[0;34m.\u001b[0m\u001b[0mread_csv\u001b[0m\u001b[0;34m(\u001b[0m\u001b[0mio\u001b[0m\u001b[0;34m.\u001b[0m\u001b[0mBytesIO\u001b[0m\u001b[0;34m(\u001b[0m\u001b[0muploaded\u001b[0m\u001b[0;34m[\u001b[0m\u001b[0;34m'tv_movie_animation.csv'\u001b[0m\u001b[0;34m]\u001b[0m\u001b[0;34m)\u001b[0m\u001b[0;34m)\u001b[0m\u001b[0;34m\u001b[0m\u001b[0;34m\u001b[0m\u001b[0m\n\u001b[1;32m      8\u001b[0m \u001b[0mdf\u001b[0m\u001b[0;34m=\u001b[0m\u001b[0mpd\u001b[0m\u001b[0;34m.\u001b[0m\u001b[0mDataFrame\u001b[0m\u001b[0;34m(\u001b[0m\u001b[0mdatos\u001b[0m\u001b[0;34m)\u001b[0m\u001b[0;34m\u001b[0m\u001b[0;34m\u001b[0m\u001b[0m\n",
            "\u001b[0;32m/usr/local/lib/python3.9/dist-packages/google/colab/files.py\u001b[0m in \u001b[0;36mupload\u001b[0;34m()\u001b[0m\n\u001b[1;32m     67\u001b[0m   \"\"\"\n\u001b[1;32m     68\u001b[0m \u001b[0;34m\u001b[0m\u001b[0m\n\u001b[0;32m---> 69\u001b[0;31m   \u001b[0muploaded_files\u001b[0m \u001b[0;34m=\u001b[0m \u001b[0m_upload_files\u001b[0m\u001b[0;34m(\u001b[0m\u001b[0mmultiple\u001b[0m\u001b[0;34m=\u001b[0m\u001b[0;32mTrue\u001b[0m\u001b[0;34m)\u001b[0m\u001b[0;34m\u001b[0m\u001b[0;34m\u001b[0m\u001b[0m\n\u001b[0m\u001b[1;32m     70\u001b[0m   \u001b[0;31m# Mapping from original filename to filename as saved locally.\u001b[0m\u001b[0;34m\u001b[0m\u001b[0;34m\u001b[0m\u001b[0m\n\u001b[1;32m     71\u001b[0m   \u001b[0mlocal_filenames\u001b[0m \u001b[0;34m=\u001b[0m \u001b[0mdict\u001b[0m\u001b[0;34m(\u001b[0m\u001b[0;34m)\u001b[0m\u001b[0;34m\u001b[0m\u001b[0;34m\u001b[0m\u001b[0m\n",
            "\u001b[0;32m/usr/local/lib/python3.9/dist-packages/google/colab/files.py\u001b[0m in \u001b[0;36m_upload_files\u001b[0;34m(multiple)\u001b[0m\n\u001b[1;32m    151\u001b[0m \u001b[0;34m\u001b[0m\u001b[0m\n\u001b[1;32m    152\u001b[0m   \u001b[0;31m# First result is always an indication that the file picker has completed.\u001b[0m\u001b[0;34m\u001b[0m\u001b[0;34m\u001b[0m\u001b[0m\n\u001b[0;32m--> 153\u001b[0;31m   result = _output.eval_js(\n\u001b[0m\u001b[1;32m    154\u001b[0m       'google.colab._files._uploadFiles(\"{input_id}\", \"{output_id}\")'.format(\n\u001b[1;32m    155\u001b[0m           \u001b[0minput_id\u001b[0m\u001b[0;34m=\u001b[0m\u001b[0minput_id\u001b[0m\u001b[0;34m,\u001b[0m \u001b[0moutput_id\u001b[0m\u001b[0;34m=\u001b[0m\u001b[0moutput_id\u001b[0m\u001b[0;34m\u001b[0m\u001b[0;34m\u001b[0m\u001b[0m\n",
            "\u001b[0;32m/usr/local/lib/python3.9/dist-packages/google/colab/output/_js.py\u001b[0m in \u001b[0;36meval_js\u001b[0;34m(script, ignore_result, timeout_sec)\u001b[0m\n\u001b[1;32m     38\u001b[0m   \u001b[0;32mif\u001b[0m \u001b[0mignore_result\u001b[0m\u001b[0;34m:\u001b[0m\u001b[0;34m\u001b[0m\u001b[0;34m\u001b[0m\u001b[0m\n\u001b[1;32m     39\u001b[0m     \u001b[0;32mreturn\u001b[0m\u001b[0;34m\u001b[0m\u001b[0;34m\u001b[0m\u001b[0m\n\u001b[0;32m---> 40\u001b[0;31m   \u001b[0;32mreturn\u001b[0m \u001b[0m_message\u001b[0m\u001b[0;34m.\u001b[0m\u001b[0mread_reply_from_input\u001b[0m\u001b[0;34m(\u001b[0m\u001b[0mrequest_id\u001b[0m\u001b[0;34m,\u001b[0m \u001b[0mtimeout_sec\u001b[0m\u001b[0;34m)\u001b[0m\u001b[0;34m\u001b[0m\u001b[0;34m\u001b[0m\u001b[0m\n\u001b[0m\u001b[1;32m     41\u001b[0m \u001b[0;34m\u001b[0m\u001b[0m\n\u001b[1;32m     42\u001b[0m \u001b[0;34m\u001b[0m\u001b[0m\n",
            "\u001b[0;32m/usr/local/lib/python3.9/dist-packages/google/colab/_message.py\u001b[0m in \u001b[0;36mread_reply_from_input\u001b[0;34m(message_id, timeout_sec)\u001b[0m\n\u001b[1;32m     95\u001b[0m     \u001b[0mreply\u001b[0m \u001b[0;34m=\u001b[0m \u001b[0m_read_next_input_message\u001b[0m\u001b[0;34m(\u001b[0m\u001b[0;34m)\u001b[0m\u001b[0;34m\u001b[0m\u001b[0;34m\u001b[0m\u001b[0m\n\u001b[1;32m     96\u001b[0m     \u001b[0;32mif\u001b[0m \u001b[0mreply\u001b[0m \u001b[0;34m==\u001b[0m \u001b[0m_NOT_READY\u001b[0m \u001b[0;32mor\u001b[0m \u001b[0;32mnot\u001b[0m \u001b[0misinstance\u001b[0m\u001b[0;34m(\u001b[0m\u001b[0mreply\u001b[0m\u001b[0;34m,\u001b[0m \u001b[0mdict\u001b[0m\u001b[0;34m)\u001b[0m\u001b[0;34m:\u001b[0m\u001b[0;34m\u001b[0m\u001b[0;34m\u001b[0m\u001b[0m\n\u001b[0;32m---> 97\u001b[0;31m       \u001b[0mtime\u001b[0m\u001b[0;34m.\u001b[0m\u001b[0msleep\u001b[0m\u001b[0;34m(\u001b[0m\u001b[0;36m0.025\u001b[0m\u001b[0;34m)\u001b[0m\u001b[0;34m\u001b[0m\u001b[0;34m\u001b[0m\u001b[0m\n\u001b[0m\u001b[1;32m     98\u001b[0m       \u001b[0;32mcontinue\u001b[0m\u001b[0;34m\u001b[0m\u001b[0;34m\u001b[0m\u001b[0m\n\u001b[1;32m     99\u001b[0m     if (\n",
            "\u001b[0;31mKeyboardInterrupt\u001b[0m: "
          ]
        }
      ]
    }
  ]
}